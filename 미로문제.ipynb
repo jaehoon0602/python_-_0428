{
  "nbformat": 4,
  "nbformat_minor": 0,
  "metadata": {
    "colab": {
      "provenance": [],
      "gpuType": "T4"
    },
    "kernelspec": {
      "name": "python3",
      "display_name": "Python 3"
    },
    "language_info": {
      "name": "python"
    },
    "accelerator": "GPU"
  },
  "cells": [
    {
      "cell_type": "code",
      "source": [
        "maze = [\n",
        "    [1, 0, 1, 1, 1, 1],\n",
        "    [1, 0, 0, 0, 1, 1],\n",
        "    [1, 1, 1, 0, 1, 1],\n",
        "    [1, 1, 1, 0, 0, 1],\n",
        "    [1, 1, 1, 1, 0, 1],\n",
        "    [1, 1, 1, 1, 0, 0],\n",
        "]\n",
        "\n",
        "start = (0, 1)\n",
        "end = (5, 5)\n",
        "stack = [start]\n",
        "방문한 = []\n",
        "\n",
        "dx = [-1, 1, 0, 0]\n",
        "dy = [0, 0, -1, 1]\n",
        "\n",
        "while stack:\n",
        "    x, y = stack.pop()\n",
        "    if (x, y) in 방문한:\n",
        "        continue\n",
        "    방문한.append((x, y))\n",
        "    if (x, y) == end:\n",
        "        print(\"방문한 장소:\", 방문한)\n",
        "        print(\"성공\")\n",
        "        break\n",
        "    for i in range(4):\n",
        "        nx, ny = x + dx[i], y + dy[i]\n",
        "        if 0 <= nx < 6 and 0 <= ny < 6 and maze[nx][ny] == 0:\n",
        "            stack.append((nx, ny))\n",
        "else:\n",
        "    print(\"탈출실패\")\n"
      ],
      "metadata": {
        "colab": {
          "base_uri": "https://localhost:8080/"
        },
        "id": "GMvYhTkUq0yj",
        "outputId": "bfd89082-8da5-4c70-ef69-f6b66fae4a90"
      },
      "execution_count": 2,
      "outputs": [
        {
          "output_type": "stream",
          "name": "stdout",
          "text": [
            "방문한 장소: [(0, 1), (1, 1), (1, 2), (1, 3), (2, 3), (3, 3), (3, 4), (4, 4), (5, 4), (5, 5)]\n",
            "성공\n"
          ]
        }
      ]
    }
  ]
}
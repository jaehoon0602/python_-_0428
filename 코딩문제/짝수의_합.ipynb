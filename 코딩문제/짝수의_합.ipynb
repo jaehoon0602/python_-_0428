{
  "nbformat": 4,
  "nbformat_minor": 0,
  "metadata": {
    "colab": {
      "provenance": [],
      "gpuType": "T4"
    },
    "kernelspec": {
      "name": "python3",
      "display_name": "Python 3"
    },
    "language_info": {
      "name": "python"
    },
    "accelerator": "GPU"
  },
  "cells": [
    {
      "cell_type": "code",
      "source": [
        "class EvenSumCalculator:\n",
        "    def __init__(self, n):\n",
        "        if not (1 <= n <= 10000):\n",
        "            raise ValueError(\"n은 1 이상 10000 이하의 정수.\")\n",
        "        self.n = n\n",
        "\n",
        "    def calculate_sum(self):\n",
        "        total = 0\n",
        "        for i in range(2, self.n + 1, 2):\n",
        "            total += i\n",
        "        return total\n",
        "\n",
        "# 사용 예시\n",
        "try:\n",
        "    n = int(input())\n",
        "    calculator = EvenSumCalculator(n)\n",
        "    print(calculator.calculate_sum())\n",
        "except ValueError as e:\n",
        "    print(e)\n"
      ],
      "metadata": {
        "colab": {
          "base_uri": "https://localhost:8080/"
        },
        "id": "3Iiweh0t9iup",
        "outputId": "d9794f1b-5a98-418a-e101-0c0402500251"
      },
      "execution_count": 5,
      "outputs": [
        {
          "output_type": "stream",
          "name": "stdout",
          "text": [
            "453\n",
            "51302\n"
          ]
        }
      ]
    },
    {
      "cell_type": "code",
      "source": [],
      "metadata": {
        "id": "LYTWcdJd939w"
      },
      "execution_count": null,
      "outputs": []
    }
  ]
}
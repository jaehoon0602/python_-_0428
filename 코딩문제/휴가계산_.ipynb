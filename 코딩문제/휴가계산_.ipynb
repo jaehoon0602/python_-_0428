{
  "nbformat": 4,
  "nbformat_minor": 0,
  "metadata": {
    "colab": {
      "provenance": [],
      "gpuType": "T4"
    },
    "kernelspec": {
      "name": "python3",
      "display_name": "Python 3"
    },
    "language_info": {
      "name": "python"
    },
    "accelerator": "GPU"
  },
  "cells": [
    {
      "cell_type": "code",
      "source": [
        "class 휴가일수계산기:\n",
        "    def __init__(self):\n",
        "        self.이름과휴가 = {}\n",
        "\n",
        "    def 휴가일수계산(self, 출근일수):\n",
        "        \"\"\"휴가 일수를 계산하는 함수\"\"\"\n",
        "        return 출근일수 // 20\n",
        "\n",
        "    def 이름입력(self):\n",
        "        \"\"\"이름과 출근일수를 입력받아 휴가 일수를 계산하여 딕셔너리에 추가\"\"\"\n",
        "        while len(self.이름과휴가) < 10:\n",
        "            이름입력 = input(\"이름을 입력하세요 (그만하려면 '종료' 입력): \")\n",
        "            if 이름입력 == \"종료\":\n",
        "                break\n",
        "\n",
        "            출근일수입력 = int(input(f\"{이름입력}의 출근 일수를 입력하세요: \"))\n",
        "            휴가일수 = self.휴가일수계산(출근일수입력)\n",
        "\n",
        "            self.이름과휴가[이름입력] = 휴가일수\n",
        "\n",
        "    def 이름검색(self):\n",
        "        \"\"\"검색할 이름을 입력받고 해당 이름의 휴가 일수를 출력하는 함수\"\"\"\n",
        "        while True:\n",
        "            검색이름 = input(\"\\n검색할 이름을 입력하세요 (종료하려면 '종료' 입력): \")\n",
        "            if 검색이름 == \"종료\":\n",
        "                print(\"검색을 종료합니다.\")\n",
        "                break\n",
        "\n",
        "            if 검색이름 in self.이름과휴가:\n",
        "                print(f\"{검색이름}의 휴가 일수는 {self.이름과휴가[검색이름]}일입니다.\")\n",
        "            else:\n",
        "                print(f\"{검색이름}은(는) 목록에 없습니다.\")\n",
        "\n",
        "휴가계산기 = 휴가일수계산기()\n",
        "휴가계산기.이름입력()\n",
        "휴가계산기.이름검색()\n"
      ],
      "metadata": {
        "colab": {
          "base_uri": "https://localhost:8080/"
        },
        "id": "NG3FgCtl_uP4",
        "outputId": "94ce179c-14c9-43f3-9d52-849ceece09a0"
      },
      "execution_count": null,
      "outputs": [
        {
          "output_type": "stream",
          "name": "stdout",
          "text": [
            "이름을 입력하세요 (그만하려면 '종료' 입력): 장재훈\n",
            "장재훈의 출근 일수를 입력하세요: 30\n",
            "이름을 입력하세요 (그만하려면 '종료' 입력): 종료\n",
            "\n",
            "검색할 이름을 입력하세요 (종료하려면 '종료' 입력): 장재훈\n",
            "장재훈의 휴가 일수는 1일입니다.\n"
          ]
        }
      ]
    }
  ]
}
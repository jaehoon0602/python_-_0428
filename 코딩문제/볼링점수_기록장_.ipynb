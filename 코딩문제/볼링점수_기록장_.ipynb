{
  "nbformat": 4,
  "nbformat_minor": 0,
  "metadata": {
    "colab": {
      "provenance": [],
      "gpuType": "T4"
    },
    "kernelspec": {
      "name": "python3",
      "display_name": "Python 3"
    },
    "language_info": {
      "name": "python"
    },
    "accelerator": "GPU"
  },
  "cells": [
    {
      "cell_type": "code",
      "source": [
        "class BowlingScore:\n",
        "    def __init__(self, name):\n",
        "        self.name = name\n",
        "        self.scores = []\n",
        "\n",
        "    def input_scores(self):\n",
        "        for frame in range(1, 11):\n",
        "            score = int(input(f\"{frame}번째 프레임 점수 입력: \"))\n",
        "            self.scores.append(score)\n",
        "\n",
        "    def calculate_total(self):\n",
        "        return sum(self.scores)\n",
        "\n",
        "    def save_to_file(self):\n",
        "        total_score = self.calculate_total()\n",
        "        filename = f\"{self.name}.txt\"\n",
        "\n",
        "        with open(filename, 'w', encoding='utf-8') as file:\n",
        "            file.write(f\"{self.name}의 볼링 점수\\n\")\n",
        "            file.write(\"--------------------\\n\")\n",
        "            for i, score in enumerate(self.scores, 1):\n",
        "                file.write(f\"{i}프레임: {score}\\n\")\n",
        "            file.write(f\"\\n총점: {total_score}\\n\")\n",
        "\n",
        "        print(f\"{filename} 파일이 저장되었습니다.\")\n",
        "\n",
        "    def display_score(self):\n",
        "        total_score = self.calculate_total()\n",
        "        print(f\"{self.name}의 볼링 점수\")\n",
        "        print(\"--------------------\")\n",
        "        for i, score in enumerate(self.scores, 1):\n",
        "            print(f\"{i}프레임: {score}\")\n",
        "        print(f\"\\n총점: {total_score}\")\n",
        "\n",
        "if __name__ == \"__main__\":\n",
        "    name = input(\"이름을 입력하세요: \")\n",
        "    player = BowlingScore(name)\n",
        "    player.input_scores()\n",
        "    player.save_to_file()\n",
        "    player.display_score()\n"
      ],
      "metadata": {
        "id": "NG3FgCtl_uP4"
      },
      "execution_count": null,
      "outputs": []
    }
  ]
}
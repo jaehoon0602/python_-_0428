{
  "nbformat": 4,
  "nbformat_minor": 0,
  "metadata": {
    "colab": {
      "provenance": [],
      "gpuType": "T4"
    },
    "kernelspec": {
      "name": "python3",
      "display_name": "Python 3"
    },
    "language_info": {
      "name": "python"
    },
    "accelerator": "GPU"
  },
  "cells": [
    {
      "cell_type": "code",
      "source": [
        "class CafeOrder:\n",
        "    def __init__(self, menu):\n",
        "        self.menu = menu\n",
        "        self.orders = []\n",
        "\n",
        "    def add_order(self, order):\n",
        "        if order in self.menu:\n",
        "            self.orders.append(order)\n",
        "        else:\n",
        "            print(\"메뉴에 없습니다. 다시 입력해주세요.\")\n",
        "\n",
        "    def calculate_total(self):\n",
        "        total_price = sum(self.menu[drink] for drink in self.orders)\n",
        "        return total_price\n",
        "\n",
        "    def print_receipt(self):\n",
        "        print(\"orders:\", self.orders)\n",
        "        print(f\"총 결제 금액은 {self.calculate_total()} 원입니다.\")\n",
        "\n",
        "    def take_order(self):\n",
        "        while True:\n",
        "            order = input(\"음료를 입력하세요 (끝 입력 시 종료): \")\n",
        "            if order == \"끝\":\n",
        "                break\n",
        "            self.add_order(order)\n",
        "        self.print_receipt()\n",
        "\n",
        "menu = {\n",
        "    \"아메리카노\": 1500,\n",
        "    \"카페라떼\": 1800,\n",
        "    \"초코\": 2000\n",
        "}\n",
        "\n",
        "cafe_order = CafeOrder(menu)\n",
        "\n",
        "cafe_order.take_order()\n"
      ],
      "metadata": {
        "id": "NG3FgCtl_uP4"
      },
      "execution_count": null,
      "outputs": []
    }
  ]
}
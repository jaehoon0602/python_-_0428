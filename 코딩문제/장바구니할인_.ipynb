{
  "nbformat": 4,
  "nbformat_minor": 0,
  "metadata": {
    "colab": {
      "provenance": [],
      "gpuType": "T4"
    },
    "kernelspec": {
      "name": "python3",
      "display_name": "Python 3"
    },
    "language_info": {
      "name": "python"
    },
    "accelerator": "GPU"
  },
  "cells": [
    {
      "cell_type": "code",
      "source": [
        "class ShoppingCart:\n",
        "    def __init__(self):\n",
        "        self.items = []\n",
        "\n",
        "    def add_item(self, price):\n",
        "        \"\"\"장바구니에 물건을 추가하는 메소드\"\"\"\n",
        "        self.items.append(price)\n",
        "\n",
        "    def apply_discount(self, price):\n",
        "        \"\"\"물건에 할인 적용 메소드\"\"\"\n",
        "        if price >= 10000:\n",
        "            return price * 0.9\n",
        "        else:\n",
        "            return price\n",
        "\n",
        "    def calculate_total(self):\n",
        "        \"\"\"장바구니의 총 금액 계산 메소드\"\"\"\n",
        "        total = 0\n",
        "        for item in self.items:\n",
        "            discounted_price = self.apply_discount(item)\n",
        "            total += int(discounted_price)\n",
        "        return total\n",
        "\n",
        "cart = ShoppingCart()\n",
        "cart.add_item(12000)\n",
        "cart.add_item(8000)\n",
        "cart.add_item(15000)\n",
        "cart.add_item(5000)\n",
        "\n",
        "total_price = cart.calculate_total()\n",
        "print(f\"지불 금액: {total_price}\")\n"
      ],
      "metadata": {
        "colab": {
          "base_uri": "https://localhost:8080/"
        },
        "id": "NG3FgCtl_uP4",
        "outputId": "87b653d7-6da7-4370-8393-3616ffbfd83f"
      },
      "execution_count": 20,
      "outputs": [
        {
          "output_type": "stream",
          "name": "stdout",
          "text": [
            "지불 금액: 37300\n"
          ]
        }
      ]
    }
  ]
}
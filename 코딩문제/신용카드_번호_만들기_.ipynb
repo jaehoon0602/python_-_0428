{
  "nbformat": 4,
  "nbformat_minor": 0,
  "metadata": {
    "colab": {
      "provenance": [],
      "gpuType": "T4"
    },
    "kernelspec": {
      "name": "python3",
      "display_name": "Python 3"
    },
    "language_info": {
      "name": "python"
    },
    "accelerator": "GPU"
  },
  "cells": [
    {
      "cell_type": "code",
      "source": [
        "import re\n",
        "\n",
        "class CreditCardValidator:\n",
        "    def __init__(self, card_number):\n",
        "        self.card_number = card_number\n",
        "\n",
        "    def is_valid_length(self):\n",
        "        return len(self.card_number.replace(\"-\", \"\")) == 16\n",
        "\n",
        "    def starts_with_valid_digit(self):\n",
        "        return self.card_number[0] in ['4', '5', '6']\n",
        "\n",
        "    def contains_only_digits_and_hyphens(self):\n",
        "        return bool(re.match(r'^[0-9-]+$', self.card_number))\n",
        "\n",
        "    def is_valid_format(self):\n",
        "\n",
        "        return bool(re.match(r'^\\d{4}-\\d{4}-\\d{4}-\\d{4}$', self.card_number))\n",
        "\n",
        "    def no_repeated_digits(self):\n",
        "        for i in range(len(self.card_number) - 3):\n",
        "            if self.card_number[i:i+4] == self.card_number[i]*4:\n",
        "                return False\n",
        "        return True\n",
        "\n",
        "    def validate(self):\n",
        "        if self.starts_with_valid_digit() and \\\n",
        "           self.is_valid_length() and \\\n",
        "           self.contains_only_digits_and_hyphens() and \\\n",
        "           self.no_repeated_digits():\n",
        "            return \"Valid\"\n",
        "        return \"Invalid\"\n",
        "\n",
        "\n",
        "def main():\n",
        "    N = int(input())\n",
        "    for _ in range(N):\n",
        "        card_number = input().strip()\n",
        "        validator = CreditCardValidator(card_number)\n",
        "        print(validator.validate())\n",
        "\n",
        "\n",
        "if __name__ == \"__main__\":\n",
        "    main()\n"
      ],
      "metadata": {
        "id": "NG3FgCtl_uP4"
      },
      "execution_count": null,
      "outputs": []
    }
  ]
}
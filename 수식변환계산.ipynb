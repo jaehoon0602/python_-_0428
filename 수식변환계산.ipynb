{
  "nbformat": 4,
  "nbformat_minor": 0,
  "metadata": {
    "colab": {
      "provenance": [],
      "gpuType": "T4"
    },
    "kernelspec": {
      "name": "python3",
      "display_name": "Python 3"
    },
    "language_info": {
      "name": "python"
    },
    "accelerator": "GPU"
  },
  "cells": [
    {
      "cell_type": "code",
      "source": [
        "def get_precedence(op):\n",
        "    precedence = {'+': 1, '-': 1, '*': 2, '/': 2, '^': 3}\n",
        "    return precedence.get(op, 0)\n",
        "\n",
        "def is_operator(ch):\n",
        "    return ch in '+-*/^'\n",
        "\n",
        "def to_postfix(expression):\n",
        "    output = []\n",
        "    op_stack = []\n",
        "\n",
        "    for ch in expression:\n",
        "        if ch.isalnum():\n",
        "            output.append(ch)\n",
        "        elif ch == '(':\n",
        "            op_stack.append(ch)\n",
        "        elif ch == ')':\n",
        "            while op_stack and op_stack[-1] != '(':\n",
        "                output.append(op_stack.pop())\n",
        "            op_stack.pop()  # Remove '('\n",
        "        elif is_operator(ch):\n",
        "            while (op_stack and op_stack[-1] != '(' and\n",
        "                   get_precedence(ch) <= get_precedence(op_stack[-1])):\n",
        "                output.append(op_stack.pop())\n",
        "            op_stack.append(ch)\n",
        "\n",
        "    while op_stack:\n",
        "        output.append(op_stack.pop())\n",
        "\n",
        "    return ''.join(output)\n",
        "\n",
        "def to_prefix(expression):\n",
        "    reversed_expr = []\n",
        "    for ch in expression[::-1]:\n",
        "        if ch == '(':\n",
        "            reversed_expr.append(')')\n",
        "        elif ch == ')':\n",
        "            reversed_expr.append('(')\n",
        "        else:\n",
        "            reversed_expr.append(ch)\n",
        "\n",
        "    output = []\n",
        "    op_stack = []\n",
        "\n",
        "    for ch in reversed_expr:\n",
        "        if ch.isalnum():\n",
        "            output.append(ch)\n",
        "        elif ch == '(':\n",
        "            op_stack.append(ch)\n",
        "        elif ch == ')':\n",
        "            while op_stack and op_stack[-1] != '(':\n",
        "                output.append(op_stack.pop())\n",
        "            op_stack.pop()\n",
        "        elif is_operator(ch):\n",
        "            while (op_stack and op_stack[-1] != '(' and\n",
        "                   get_precedence(ch) <= get_precedence(op_stack[-1])):\n",
        "                output.append(op_stack.pop())\n",
        "            op_stack.append(ch)\n",
        "\n",
        "    while op_stack:\n",
        "        output.append(op_stack.pop())\n",
        "\n",
        "    return ''.join(output[::-1])\n",
        "\n",
        "\n",
        "infix_expr = input(\"input\")\n",
        "\n",
        "print(\"후위:\", to_postfix(infix_expr))\n",
        "print(\"전위:\", to_prefix(infix_expr))\n"
      ],
      "metadata": {
        "colab": {
          "base_uri": "https://localhost:8080/"
        },
        "id": "GMvYhTkUq0yj",
        "outputId": "3fd51cee-ab6d-42a2-c36e-237d39a551cb"
      },
      "execution_count": 1,
      "outputs": [
        {
          "output_type": "stream",
          "name": "stdout",
          "text": [
            "input4\n",
            "후위: 4\n",
            "전위: 4\n"
          ]
        }
      ]
    }
  ]
}
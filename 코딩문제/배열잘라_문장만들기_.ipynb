{
  "nbformat": 4,
  "nbformat_minor": 0,
  "metadata": {
    "colab": {
      "provenance": [],
      "gpuType": "T4"
    },
    "kernelspec": {
      "name": "python3",
      "display_name": "Python 3"
    },
    "language_info": {
      "name": "python"
    },
    "accelerator": "GPU"
  },
  "cells": [
    {
      "cell_type": "code",
      "source": [
        "class WordExtractor:\n",
        "    def __init__(self, words, slices):\n",
        "        self.words = words\n",
        "        self.slices = slices\n",
        "\n",
        "    def extract(self):\n",
        "        result = \"\"\n",
        "        for word, slice_ in zip(self.words, self.slices):\n",
        "            for s in slice_:\n",
        "                result += word[s[0]:s[1]]\n",
        "        return result\n",
        "\n",
        "def hidden_word(words, slices):\n",
        "    extractor = WordExtractor(words, slices)\n",
        "    return extractor.extract()\n",
        "\n",
        "words = [\"apocalypse\", \"meteorology\", \"architect\", \"cheetah\"]\n",
        "slices = [[(1, 2), (5, 6)], [(2, 3)], [(2, 2)], [(1, 1)]]\n",
        "\n",
        "print(hidden_word(words, slices))\n"
      ],
      "metadata": {
        "colab": {
          "base_uri": "https://localhost:8080/"
        },
        "id": "NG3FgCtl_uP4",
        "outputId": "51507751-2ee0-4f09-8a8c-aaa84cced881"
      },
      "execution_count": 17,
      "outputs": [
        {
          "output_type": "stream",
          "name": "stdout",
          "text": [
            "pa\n"
          ]
        }
      ]
    }
  ]
}
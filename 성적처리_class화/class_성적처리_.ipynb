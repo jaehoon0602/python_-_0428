{
  "nbformat": 4,
  "nbformat_minor": 0,
  "metadata": {
    "colab": {
      "provenance": [],
      "gpuType": "T4"
    },
    "kernelspec": {
      "name": "python3",
      "display_name": "Python 3"
    },
    "language_info": {
      "name": "python"
    },
    "accelerator": "GPU"
  },
  "cells": [
    {
      "cell_type": "code",
      "source": [
        "import random\n",
        "\n",
        "class Student:\n",
        "    def __init__(self, student_id):\n",
        "        self.student_id = student_id\n",
        "        self.scores = self.generate_scores()\n",
        "\n",
        "    def generate_scores(self):\n",
        "        return {subject: random.randint(0, 100) for subject in [\"수학\", \"영어\", \"국어\"]}\n",
        "\n",
        "    def get_scores(self):\n",
        "        return self.scores\n",
        "\n",
        "class Class:\n",
        "    def __init__(self, grade, ban):\n",
        "        self.grade = grade\n",
        "        self.ban = ban\n",
        "        self.students = {f\"학생{i}\": Student(i) for i in range(1, 11)}\n",
        "\n",
        "    def calculate_class_average(self):\n",
        "        totals = {\"수학\": 0, \"영어\": 0, \"국어\": 0}\n",
        "        count = len(self.students)\n",
        "\n",
        "        for student in self.students.values():\n",
        "            scores = student.get_scores()\n",
        "            for subject in totals:\n",
        "                totals[subject] += scores[subject]\n",
        "\n",
        "        return {subject: round(total / count, 2) for subject, total in totals.items()}\n",
        "\n",
        "class Grade:\n",
        "    def __init__(self, grade):\n",
        "        self.grade = grade\n",
        "        self.classes = {f\"{ban}반\": Class(grade, ban) for ban in range(1, 6)}\n",
        "\n",
        "    def calculate_grade_average(self):\n",
        "        totals = {\"수학\": 0, \"영어\": 0, \"국어\": 0}\n",
        "        count = 0\n",
        "\n",
        "        for class_data in self.classes.values():\n",
        "            class_avg = class_data.calculate_class_average()\n",
        "            for subject in totals:\n",
        "                totals[subject] += class_avg[subject]\n",
        "            count += 1\n",
        "\n",
        "        return {subject: round(total / count, 2) for subject, total in totals.items()}\n",
        "\n",
        "class School:\n",
        "    def __init__(self):\n",
        "        self.grades = {f\"{grade}학년\": Grade(grade) for grade in range(1, 7)}\n",
        "\n",
        "    def calculate_school_average(self):\n",
        "        totals = {\"수학\": 0, \"영어\": 0, \"국어\": 0}\n",
        "        count = 0\n",
        "\n",
        "        for grade_data in self.grades.values():\n",
        "            grade_avg = grade_data.calculate_grade_average()\n",
        "            for subject in totals:\n",
        "                totals[subject] += grade_avg[subject]\n",
        "            count += 1\n",
        "\n",
        "        return {subject: round(total / count, 2) for subject, total in totals.items()}\n",
        "\n",
        "school = School()\n",
        "\n",
        "print(\"1학년 1반 평균:\", school.grades[\"1학년\"].classes[\"1반\"].calculate_class_average())\n",
        "print(\"1학년 전체 평균:\", school.grades[\"1학년\"].calculate_grade_average())\n",
        "print(\"전교 전체 평균:\", school.calculate_school_average())\n",
        "\n",
        "print(\"\\n학년별 평균:\")\n",
        "for grade in school.grades:\n",
        "    avg = school.grades[grade].calculate_grade_average()\n",
        "    print(f\"{grade} 평균:\", avg)\n"
      ],
      "metadata": {
        "colab": {
          "base_uri": "https://localhost:8080/"
        },
        "id": "5IxM0uArFa8k",
        "outputId": "b4821fd8-fabc-4ea2-b987-0663bc4dce73"
      },
      "execution_count": 38,
      "outputs": [
        {
          "output_type": "stream",
          "name": "stdout",
          "text": [
            "1학년 1반 평균: {'수학': 48.9, '영어': 52.0, '국어': 32.9}\n",
            "1학년 전체 평균: {'수학': 46.92, '영어': 54.48, '국어': 52.14}\n",
            "전교 전체 평균: {'수학': 47.28, '영어': 50.66, '국어': 50.88}\n",
            "\n",
            "학년별 평균:\n",
            "1학년 평균: {'수학': 46.92, '영어': 54.48, '국어': 52.14}\n",
            "2학년 평균: {'수학': 49.14, '영어': 46.6, '국어': 48.34}\n",
            "3학년 평균: {'수학': 41.28, '영어': 46.1, '국어': 46.58}\n",
            "4학년 평균: {'수학': 48.16, '영어': 57.34, '국어': 54.38}\n",
            "5학년 평균: {'수학': 43.66, '영어': 48.22, '국어': 52.52}\n",
            "6학년 평균: {'수학': 54.54, '영어': 51.24, '국어': 51.32}\n"
          ]
        }
      ]
    }
  ]
}
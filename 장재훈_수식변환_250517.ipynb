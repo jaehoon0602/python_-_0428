{
  "nbformat": 4,
  "nbformat_minor": 0,
  "metadata": {
    "colab": {
      "provenance": []
    },
    "kernelspec": {
      "name": "python3",
      "display_name": "Python 3"
    },
    "language_info": {
      "name": "python"
    }
  },
  "cells": [
    {
      "cell_type": "markdown",
      "source": [
        "1차\n",
        "\n"
      ],
      "metadata": {
        "id": "W5CPLdHdM_C5"
      }
    },
    {
      "cell_type": "code",
      "source": [
        "\n",
        "A=input((\"수식입력:\"))"
      ],
      "metadata": {
        "colab": {
          "base_uri": "https://localhost:8080/"
        },
        "id": "NLITCzJG2dow",
        "outputId": "a7d1adf1-0290-4b3e-def5-d55814622c67"
      },
      "execution_count": 1,
      "outputs": [
        {
          "name": "stdout",
          "output_type": "stream",
          "text": [
            "수식입력:4+5\n"
          ]
        }
      ]
    },
    {
      "cell_type": "code",
      "execution_count": 2,
      "metadata": {
        "id": "cNkDo5yq2VnO"
      },
      "outputs": [],
      "source": [
        "def con_post(A):\n",
        "    post=[]\n",
        "    op=[]\n",
        "    infix=list(A)\n",
        "\n",
        "    for i in infix:\n",
        "        if i.isdigit():\n",
        "            post.append(i)\n",
        "        else :\n",
        "            while op:\n",
        "               post.append(op.pop())\n",
        "\n",
        "            op.append(i)\n",
        "\n",
        "    while op:\n",
        "        post.append(op.pop())\n",
        "\n",
        "\n",
        "    print(\"post:\",post)\n",
        "    print(\"후위표기법 : \",''.join(post))\n",
        "    print(\"op:\",op)\n"
      ]
    },
    {
      "cell_type": "code",
      "source": [
        "con_post(A)"
      ],
      "metadata": {
        "colab": {
          "base_uri": "https://localhost:8080/"
        },
        "id": "WAyqQeQq2j0o",
        "outputId": "9cd99a19-dc4b-4b22-85c5-3bb9c7d0764d"
      },
      "execution_count": 3,
      "outputs": [
        {
          "output_type": "stream",
          "name": "stdout",
          "text": [
            "post: ['4', '5', '+']\n",
            "후위표기법 :  45+\n",
            "op: []\n"
          ]
        }
      ]
    },
    {
      "cell_type": "markdown",
      "source": [
        "2차"
      ],
      "metadata": {
        "id": "cbE3bRKQ2zv4"
      }
    },
    {
      "cell_type": "code",
      "source": [
        "def con_post(A):\n",
        "    post = []  # 후위 표기법 결과\n",
        "    op = []    # 연산자 스택\n",
        "    infix = list(A)  # 입력 중위 표기법을 리스트로 나눈 것\n",
        "\n",
        "    # 연산자의 우선순위 설정 (숫자가 커질수록 우선순위가 높음)\n",
        "    operator_priority = {'+': 1, '-': 1, '*': 2, '/': 2, '^': 3}\n",
        "\n",
        "    i = 0\n",
        "    while i < len(infix):\n",
        "        char = infix[i]\n",
        "\n",
        "        if char.isdigit():  # 숫자 일 때\n",
        "            # 두 자릿수 이상의 숫자 처리\n",
        "            num = char\n",
        "            while i + 1 < len(infix) and infix[i + 1].isdigit():\n",
        "                i += 1\n",
        "                num += infix[i]\n",
        "            post.append(num)  # 숫자 추가\n",
        "\n",
        "        elif char == '(':  # 여는 괄호일 경우 스택에 추가하기\n",
        "            op.append(char)\n",
        "\n",
        "        elif char == ')':  # 닫는 괄호일 경우 여는 괄호 나올때까지 꺼내기\n",
        "            while op and op[-1] != '(':\n",
        "                post.append(op.pop())\n",
        "            op.pop()  # '('는 스택에서 제거\n",
        "\n",
        "        else:  # 연산자일 경우\n",
        "            while (op and op[-1] != '(' and\n",
        "                   operator_priority[char] <= operator_priority[op[-1]]):\n",
        "                post.append(op.pop())\n",
        "            op.append(char)\n",
        "\n",
        "        i += 1\n",
        "\n",
        "    # 남은 연산자 처리\n",
        "    while op:\n",
        "        post.append(op.pop())\n",
        "\n",
        "    return post\n",
        "\n",
        "    print(\"post:\", post)\n",
        "    print(\"후위 표기법 : \", ''.join(post))\n",
        "    print(\"op:\", op)"
      ],
      "metadata": {
        "id": "XrvC43Mq21Uo"
      },
      "execution_count": 4,
      "outputs": []
    },
    {
      "cell_type": "code",
      "source": [
        "def calc_post(post): # 변환 된 후위표기식 계산하는 함수\n",
        "    result = []\n",
        "\n",
        "    for i in post:\n",
        "        if i.isdigit():\n",
        "            result.append(int(i))\n",
        "        else:\n",
        "            b = result.pop()\n",
        "            a = result.pop()\n",
        "            if i == '+':\n",
        "                result.append(a + b)\n",
        "            elif i == '-':\n",
        "                result.append(a - b)\n",
        "            elif i == '*':\n",
        "                result.append(a * b)\n",
        "            elif i == '/':\n",
        "                result.append(a / b)\n",
        "            elif i == '^':\n",
        "                result.append(a ** b)\n",
        "    return result[0]"
      ],
      "metadata": {
        "id": "FDsuaWlI-DXr"
      },
      "execution_count": 5,
      "outputs": []
    },
    {
      "cell_type": "code",
      "source": [
        "con_post('137+13')"
      ],
      "metadata": {
        "colab": {
          "base_uri": "https://localhost:8080/"
        },
        "id": "W71x_4CA9kWi",
        "outputId": "388c8e49-bdad-47b6-d4aa-6ba5004fece7"
      },
      "execution_count": 6,
      "outputs": [
        {
          "output_type": "execute_result",
          "data": {
            "text/plain": [
              "['137', '13', '+']"
            ]
          },
          "metadata": {},
          "execution_count": 6
        }
      ]
    },
    {
      "cell_type": "code",
      "source": [
        "AA='137+1'\n"
      ],
      "metadata": {
        "id": "U4WtQbZ1-lT5"
      },
      "execution_count": 9,
      "outputs": []
    },
    {
      "cell_type": "markdown",
      "source": [
        "#3차 결과\n"
      ],
      "metadata": {
        "id": "padMdHD3Ir6w"
      }
    },
    {
      "cell_type": "code",
      "source": [
        "def con_post(A): #후위표기식으로 변환하는 함수\n",
        "    post = [] # 후위표기식 리스트\n",
        "    op = [] #연산자 스택\n",
        "    infix = list(A)\n",
        "    operator_priority = {'+': 1, '-': 1, '*': 2, '/': 2, '^': 3} #연산자 우선순위 저장\n",
        "    i = 0\n",
        "    while i < len(infix):\n",
        "        char = infix[i]\n",
        "        if char.isdigit():\n",
        "            num = char\n",
        "            while i + 1 < len(infix) and infix[i + 1].isdigit():\n",
        "                i += 1\n",
        "                num += infix[i]\n",
        "            post.append(num)\n",
        "        elif char == '(':\n",
        "            op.append(char)\n",
        "        elif char == ')':\n",
        "            while op and op[-1] != '(':\n",
        "                post.append(op.pop())\n",
        "            op.pop()\n",
        "        else:\n",
        "             #op에 item이 있고 / op top이 '(' 여는괄호가 아니고 /\n",
        "             # 지금 연산자 우선 순위가 스택 안의 것보다 낮거나 같으면 실행\n",
        "\n",
        "            while (op and op[-1] != '(' and\n",
        "                   operator_priority[char] <= operator_priority[op[-1]]):\n",
        "                post.append(op.pop()) # 연산자 post에 추가\n",
        "            op.append(char) #op에 지금 연산자 넣기\n",
        "        i += 1\n",
        "    while op:\n",
        "        post.append(op.pop())\n",
        "\n",
        "    print(post)\n",
        "    return post\n",
        "\n",
        "def calc_post(post): # 변환 된 후위표기식 계산하는 함수\n",
        "    result = []\n",
        "\n",
        "    for i in post:\n",
        "        if i.isdigit():\n",
        "            result.append(int(i))\n",
        "        else:\n",
        "            b = result.pop()\n",
        "            a = result.pop()\n",
        "            if i == '+':\n",
        "                result.append(a + b)\n",
        "            elif i == '-':\n",
        "                result.append(a - b)\n",
        "            elif i == '*':\n",
        "                result.append(a * b)\n",
        "            elif i == '/':\n",
        "                result.append(a / b)\n",
        "            elif i == '^':\n",
        "                result.append(a ** b)\n",
        "    return result[0]\n",
        "\n"
      ],
      "metadata": {
        "id": "pLJUK-gQ_BE6"
      },
      "execution_count": 33,
      "outputs": []
    },
    {
      "cell_type": "code",
      "source": [
        "def calculate_expression(infix):\n",
        "    return calc_post(con_post(infix))\n",
        "# 1) infix를 후위로 변환 -> con_post\n",
        "# 2) 변환된 것을 계산 -> calc_post\n"
      ],
      "metadata": {
        "id": "yNUC1TiL_jQQ"
      },
      "execution_count": 44,
      "outputs": []
    },
    {
      "cell_type": "code",
      "source": [
        "A=input(\"수식 입력 : \")\n",
        "calculate_expression(A)"
      ],
      "metadata": {
        "colab": {
          "base_uri": "https://localhost:8080/"
        },
        "id": "JbTx0Afl_kW4",
        "outputId": "172995be-82c3-4440-ad8b-e5886d134427"
      },
      "execution_count": 40,
      "outputs": [
        {
          "output_type": "stream",
          "name": "stdout",
          "text": [
            "수식 입력 : 3+4\n",
            "['3', '4', '+']\n"
          ]
        },
        {
          "output_type": "execute_result",
          "data": {
            "text/plain": [
              "7"
            ]
          },
          "metadata": {},
          "execution_count": 40
        }
      ]
    },
    {
      "cell_type": "code",
      "source": [
        "B=input(\"수식 입력 : \")\n",
        "calculate_expression(B)"
      ],
      "metadata": {
        "colab": {
          "base_uri": "https://localhost:8080/"
        },
        "id": "6yBYJWpMIXZq",
        "outputId": "12874092-79d7-4ead-eab9-a031a1460711"
      },
      "execution_count": 41,
      "outputs": [
        {
          "output_type": "stream",
          "name": "stdout",
          "text": [
            "수식 입력 : (11+9)*2\n",
            "['11', '9', '+', '2', '*']\n"
          ]
        },
        {
          "output_type": "execute_result",
          "data": {
            "text/plain": [
              "40"
            ]
          },
          "metadata": {},
          "execution_count": 41
        }
      ]
    },
    {
      "cell_type": "code",
      "source": [
        "calculate_expression('3+4*2')"
      ],
      "metadata": {
        "colab": {
          "base_uri": "https://localhost:8080/"
        },
        "id": "7Pfx9px_Mgth",
        "outputId": "85efa90a-5700-4b3a-8ae7-a5dd2b3261e2"
      },
      "execution_count": 42,
      "outputs": [
        {
          "output_type": "stream",
          "name": "stdout",
          "text": [
            "['3', '4', '2', '*', '+']\n"
          ]
        },
        {
          "output_type": "execute_result",
          "data": {
            "text/plain": [
              "11"
            ]
          },
          "metadata": {},
          "execution_count": 42
        }
      ]
    },
    {
      "cell_type": "code",
      "source": [
        "con_post('3+2*5')"
      ],
      "metadata": {
        "colab": {
          "base_uri": "https://localhost:8080/"
        },
        "id": "b8iCxDJPI5KA",
        "outputId": "3ffee43f-1a86-4e49-d463-e0eb7d60682a"
      },
      "execution_count": 43,
      "outputs": [
        {
          "output_type": "stream",
          "name": "stdout",
          "text": [
            "['3', '2', '5', '*', '+']\n"
          ]
        },
        {
          "output_type": "execute_result",
          "data": {
            "text/plain": [
              "['3', '2', '5', '*', '+']"
            ]
          },
          "metadata": {},
          "execution_count": 43
        }
      ]
    },
    {
      "cell_type": "markdown",
      "source": [],
      "metadata": {
        "id": "ECH-DneU4hxP"
      }
    }
  ]
}
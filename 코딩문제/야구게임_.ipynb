{
  "nbformat": 4,
  "nbformat_minor": 0,
  "metadata": {
    "colab": {
      "provenance": [],
      "gpuType": "T4"
    },
    "kernelspec": {
      "name": "python3",
      "display_name": "Python 3"
    },
    "language_info": {
      "name": "python"
    },
    "accelerator": "GPU"
  },
  "cells": [
    {
      "cell_type": "code",
      "source": [
        "import random\n",
        "\n",
        "class NumberBaseball:\n",
        "    def __init__(self):\n",
        "        self.target = str(random.randint(0, 999)).zfill(3)\n",
        "        self.attempts = 0\n",
        "\n",
        "    def check_guess(self, guess):\n",
        "\n",
        "        if len(guess) != 3 or not guess.isdigit():\n",
        "            return \"숫자를 입력하세요.\"\n",
        "\n",
        "        ball_count = 0\n",
        "        strike_count = 0\n",
        "\n",
        "        for i in range(3):\n",
        "            if guess[i] == self.target[i]\n",
        "                strike_count += 1\n",
        "            elif guess[i] in self.target:\n",
        "                ball_count += 1\n",
        "\n",
        "        if strike_count == 3:\n",
        "            return f\"정답! {self.target}에 맞췄습니다.\"\n",
        "        else:\n",
        "            return f\"{ball_count} Ball {strike_count} Strike\"\n",
        "\n",
        "game = NumberBaseball()\n",
        "print(game.check_guess(\"123\"))\n"
      ],
      "metadata": {
        "colab": {
          "base_uri": "https://localhost:8080/",
          "height": 109
        },
        "id": "NG3FgCtl_uP4",
        "outputId": "bb38dfa4-3ee2-4d04-a6e6-189a28135a42"
      },
      "execution_count": 19,
      "outputs": [
        {
          "output_type": "error",
          "ename": "SyntaxError",
          "evalue": "invalid syntax (<ipython-input-19-d6b1064bebc4>, line 6)",
          "traceback": [
            "\u001b[0;36m  File \u001b[0;32m\"<ipython-input-19-d6b1064bebc4>\"\u001b[0;36m, line \u001b[0;32m6\u001b[0m\n\u001b[0;31m    self.attempts =\u001b[0m\n\u001b[0m                   ^\u001b[0m\n\u001b[0;31mSyntaxError\u001b[0m\u001b[0;31m:\u001b[0m invalid syntax\n"
          ]
        }
      ]
    }
  ]
}
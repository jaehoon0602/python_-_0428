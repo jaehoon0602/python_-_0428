{
  "nbformat": 4,
  "nbformat_minor": 0,
  "metadata": {
    "colab": {
      "provenance": [],
      "gpuType": "T4"
    },
    "kernelspec": {
      "name": "python3",
      "display_name": "Python 3"
    },
    "language_info": {
      "name": "python"
    },
    "accelerator": "GPU"
  },
  "cells": [
    {
      "cell_type": "code",
      "source": [
        "import re\n",
        "\n",
        "class PasswordChecker:\n",
        "    def __init__(self, password):\n",
        "        self.password = password\n",
        "        self.total_score = 0\n",
        "        self.feedback_messages = []\n",
        "\n",
        "    def check_length(self):\n",
        "        if len(self.password) >= 8:\n",
        "            return 2, \" 길이 8자 이상\"\n",
        "        else:\n",
        "            return 0, \" 길이 8자 미만\"\n",
        "\n",
        "    def check_number(self):\n",
        "        if re.search(r'\\d', self.password):\n",
        "            return 2, \" 숫자 포함\"\n",
        "        else:\n",
        "            return 0, \" 숫자 없음\"\n",
        "\n",
        "    def check_uppercase(self):\n",
        "        if re.search(r'[A-Z]', self.password):\n",
        "            return 1, \" 대문자 포함\"\n",
        "        else:\n",
        "            return 0, \" 대문자 없음\"\n",
        "\n",
        "    def check_lowercase(self):\n",
        "        if re.search(r'[a-z]', self.password):\n",
        "            return 1, \" 소문자 포함\"\n",
        "        else:\n",
        "            return 0, \" 소문자 없음\"\n",
        "\n",
        "    def evaluate(self):\n",
        "        checks = [\n",
        "            self.check_length,\n",
        "            self.check_number,\n",
        "            self.check_uppercase,\n",
        "            self.check_lowercase\n",
        "        ]\n",
        "\n",
        "        for check in checks:\n",
        "            score, message = check()\n",
        "            self.total_score += score\n",
        "            self.feedback_messages.append(message)\n",
        "\n",
        "        if self.total_score >= 6:\n",
        "            strength = \"비밀번호 강도: 강함\"\n",
        "        elif self.total_score >= 4:\n",
        "            strength = \"비밀번호 강도: 보통\"\n",
        "        else:\n",
        "            strength = \"비밀번호 강도: 약함\"\n",
        "\n",
        "        return strength\n",
        "\n",
        "    def display_result(self):\n",
        "        print(\"\\n검사 결과:\")\n",
        "        for message in self.feedback_messages:\n",
        "            print(message)\n",
        "        print(f\"\\n총점: {self.total_score}점\")\n",
        "        print(self.evaluate())\n",
        "\n",
        "# 실행 부분\n",
        "if __name__ == \"__main__\":\n",
        "    password = input(\"비밀번호를 입력하세요: \")\n",
        "    checker = PasswordChecker(password)\n",
        "    checker.evaluate()\n",
        "    checker.display_result()\n"
      ],
      "metadata": {
        "colab": {
          "base_uri": "https://localhost:8080/"
        },
        "id": "3Iiweh0t9iup",
        "outputId": "65a83e13-6007-4832-e5ee-f8b2b4e3e809"
      },
      "execution_count": 3,
      "outputs": [
        {
          "output_type": "stream",
          "name": "stdout",
          "text": [
            "비밀번호를 입력하세요: qwefsdfdsf\n",
            "\n",
            "검사 결과:\n",
            " 길이 8자 이상\n",
            " 숫자 없음\n",
            " 대문자 없음\n",
            " 소문자 포함\n",
            "\n",
            "총점: 3점\n",
            "비밀번호 강도: 강함\n"
          ]
        }
      ]
    },
    {
      "cell_type": "code",
      "source": [],
      "metadata": {
        "id": "LYTWcdJd939w"
      },
      "execution_count": null,
      "outputs": []
    }
  ]
}
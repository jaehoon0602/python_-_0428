{
  "nbformat": 4,
  "nbformat_minor": 0,
  "metadata": {
    "colab": {
      "provenance": [],
      "gpuType": "T4"
    },
    "kernelspec": {
      "name": "python3",
      "display_name": "Python 3"
    },
    "language_info": {
      "name": "python"
    },
    "accelerator": "GPU"
  },
  "cells": [
    {
      "cell_type": "code",
      "source": [
        "class Solution:\n",
        "    def __init__(self, n):\n",
        "        self.n = n\n",
        "\n",
        "    def get_numbers(self):\n",
        "        result = []\n",
        "        for num in range(1, self.n + 1):\n",
        "            if num % 3 == 0 and num % 2 != 0:\n",
        "                result.append(num)\n",
        "        return result\n",
        "\n",
        "solution = Solution(21)\n",
        "print(solution.get_numbers())\n"
      ],
      "metadata": {
        "colab": {
          "base_uri": "https://localhost:8080/"
        },
        "id": "5IxM0uArFa8k",
        "outputId": "191e5260-125a-431d-aaf8-637f27e5dd47"
      },
      "execution_count": 26,
      "outputs": [
        {
          "output_type": "stream",
          "name": "stdout",
          "text": [
            "[3, 9, 15, 21]\n"
          ]
        }
      ]
    }
  ]
}
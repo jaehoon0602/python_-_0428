{
  "nbformat": 4,
  "nbformat_minor": 0,
  "metadata": {
    "colab": {
      "provenance": [],
      "gpuType": "T4"
    },
    "kernelspec": {
      "name": "python3",
      "display_name": "Python 3"
    },
    "language_info": {
      "name": "python"
    },
    "accelerator": "GPU"
  },
  "cells": [
    {
      "cell_type": "code",
      "source": [
        "class BowlingScoreCalculator:\n",
        "    def __init__(self, 화면출력=False):\n",
        "        self.투구기록 = []\n",
        "        self.투구기록_위치인덱스 = 0\n",
        "        self.화면출력 = 화면출력\n",
        "        self.누적점수 = []\n",
        "    def 게임초기화(self):\n",
        "        self.투구기록 = []\n",
        "        self.투구기록_위치인덱스 = 0\n",
        "        self.누적점수 = []\n",
        "\n",
        "    def 투구기록_작성(self, 점수):\n",
        "        self.투구기록.append(점수)\n",
        "        self.투구기록_위치인덱스 += 1\n",
        "        if self.화면출력:\n",
        "            self.게임상태출력()\n",
        "\n",
        "    def 프레임_정보_업데이트(self):\n",
        "        frame = []\n",
        "        i = 0\n",
        "        while i < len(self.투구기록):\n",
        "            if self.투구기록[i] == 10:\n",
        "                frame.append(10 + self.투구기록[i + 1] + self.투구기록[i + 2] if i + 2 < len(self.투구기록) else 0)\n",
        "                i += 1\n",
        "            elif self.투구기록[i] + self.투구기록[i + 1] == 10:\n",
        "                frame.append(10 + self.투구기록[i + 2] if i + 2 < len(self.투구기록) else 0)\n",
        "                i += 2\n",
        "            else:\n",
        "                frame.append(self.투구기록[i] + self.투구기록[i + 1])\n",
        "                i += 2\n",
        "        self.누적점수 = frame\n",
        "\n",
        "    def 누적점수계산(self):\n",
        "        누적 = 0\n",
        "        결과 = []\n",
        "        for 점수 in self.누적점수:\n",
        "            누적 += 점수\n",
        "            결과.append(누적)\n",
        "        return 결과\n",
        "\n",
        "    def 추가점수_반영(self):\n",
        "        self.프레임_정보_업데이트()\n",
        "        누적점수 = self.누적점수계산()\n",
        "        return 누적점수\n",
        "\n",
        "    def 게임종료(self):\n",
        "        누적점수 = self.추가점수_반영()\n",
        "        if self.화면출력:\n",
        "            print(\"게임 종료! 최종 점수: \", 누적점수[-1] if 누적점수 else 0)\n",
        "        return 누적점수\n",
        "\n",
        "    def 게임상태출력(self):\n",
        "        print(f\"투구 기록: {self.투구기록}\")\n",
        "        print(f\"현재 누적 점수: {self.누적점수}\")\n",
        "\n",
        "게임 = BowlingScoreCalculator(화면출력=True)\n",
        "게임.게임초기화()\n",
        "\n",
        "게임.투구기록_작성(10)\n",
        "게임.투구기록_작성(7)\n",
        "게임.투구기록_작성(3)\n",
        "\n",
        "게임.게임종료()\n"
      ],
      "metadata": {
        "colab": {
          "base_uri": "https://localhost:8080/"
        },
        "id": "5IxM0uArFa8k",
        "outputId": "657ddcf6-84a0-4327-e252-e9c8f3028802"
      },
      "execution_count": 34,
      "outputs": [
        {
          "output_type": "stream",
          "name": "stdout",
          "text": [
            "투구 기록: [10]\n",
            "현재 누적 점수: []\n",
            "투구 기록: [10, 7]\n",
            "현재 누적 점수: []\n",
            "투구 기록: [10, 7, 3]\n",
            "현재 누적 점수: []\n",
            "게임 종료! 최종 점수:  20\n"
          ]
        },
        {
          "output_type": "execute_result",
          "data": {
            "text/plain": [
              "[20, 20]"
            ]
          },
          "metadata": {},
          "execution_count": 34
        }
      ]
    }
  ]
}